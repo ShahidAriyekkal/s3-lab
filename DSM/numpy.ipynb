{
  "cells": [
    {
      "cell_type": "code",
      "execution_count": 1,
      "id": "bbf9b399-0081-4841-81ab-2e5632868246",
      "metadata": {
        "trusted": true
      },
      "outputs": [
        {
          "name": "stdout",
          "output_type": "stream",
          "text": [
            "hello\n"
          ]
        }
      ],
      "source": [
        "print(\"hello\")\n"
      ]
    },
    {
      "cell_type": "code",
      "execution_count": 2,
      "id": "c9d95a7d-121c-4a04-8bf1-6cc2f411c0dd",
      "metadata": {
        "trusted": true
      },
      "outputs": [],
      "source": [
        "import numpy as np"
      ]
    },
    {
      "cell_type": "code",
      "execution_count": 3,
      "id": "99e7a308-9407-4b57-913a-51eb38611d98",
      "metadata": {
        "trusted": true
      },
      "outputs": [],
      "source": [
        "a=np.array([1,2,3])"
      ]
    },
    {
      "cell_type": "code",
      "execution_count": 4,
      "id": "ea2c7b1c-be23-419a-a396-3eeba60c47e4",
      "metadata": {
        "trusted": true
      },
      "outputs": [
        {
          "data": {
            "text/plain": [
              "array([1, 2, 3])"
            ]
          },
          "execution_count": 4,
          "metadata": {},
          "output_type": "execute_result"
        }
      ],
      "source": [
        "a"
      ]
    },
    {
      "cell_type": "code",
      "execution_count": 5,
      "id": "b4bb1287-b902-44ba-aa86-bf5e45067952",
      "metadata": {
        "trusted": true
      },
      "outputs": [],
      "source": [
        "z=np.zeros((2,3))"
      ]
    },
    {
      "cell_type": "code",
      "execution_count": 6,
      "id": "2a2a1a37-5ee4-4914-9ae7-98a04f2c305a",
      "metadata": {
        "trusted": true
      },
      "outputs": [
        {
          "data": {
            "text/plain": [
              "array([[0., 0., 0.],\n",
              "       [0., 0., 0.]])"
            ]
          },
          "execution_count": 6,
          "metadata": {},
          "output_type": "execute_result"
        }
      ],
      "source": [
        "z"
      ]
    },
    {
      "cell_type": "code",
      "execution_count": 7,
      "id": "c597abd0-e172-44ea-a87a-3e45e9029e63",
      "metadata": {
        "trusted": true
      },
      "outputs": [],
      "source": [
        "r=np.arange(0,10,2)"
      ]
    },
    {
      "cell_type": "code",
      "execution_count": 8,
      "id": "52edc0ad-1a70-4caa-87ea-ca795d1bdf4b",
      "metadata": {
        "trusted": true
      },
      "outputs": [
        {
          "data": {
            "text/plain": [
              "array([0, 2, 4, 6, 8])"
            ]
          },
          "execution_count": 8,
          "metadata": {},
          "output_type": "execute_result"
        }
      ],
      "source": [
        "r"
      ]
    },
    {
      "cell_type": "code",
      "execution_count": 9,
      "id": "f05386e4-320b-4d52-9f1b-7bb41e2de4a8",
      "metadata": {
        "trusted": true
      },
      "outputs": [],
      "source": [
        "b=np.array([4,5,6])"
      ]
    },
    {
      "cell_type": "code",
      "execution_count": 10,
      "id": "e483fdb7-a8ad-492b-a7b4-67a98a5df494",
      "metadata": {
        "trusted": true
      },
      "outputs": [
        {
          "data": {
            "text/plain": [
              "array([5, 7, 9])"
            ]
          },
          "execution_count": 10,
          "metadata": {},
          "output_type": "execute_result"
        }
      ],
      "source": [
        "a+b"
      ]
    },
    {
      "cell_type": "code",
      "execution_count": 11,
      "id": "dffc992b-a4c8-494b-8009-ee3b330c0e8d",
      "metadata": {
        "trusted": true
      },
      "outputs": [
        {
          "data": {
            "text/plain": [
              "np.float64(2.0)"
            ]
          },
          "execution_count": 11,
          "metadata": {},
          "output_type": "execute_result"
        }
      ],
      "source": [
        "np.mean(a)"
      ]
    },
    {
      "cell_type": "code",
      "execution_count": 12,
      "id": "aba61333-402d-4945-9cef-79ce71891a8f",
      "metadata": {
        "trusted": true
      },
      "outputs": [
        {
          "data": {
            "text/plain": [
              "np.int32(3)"
            ]
          },
          "execution_count": 12,
          "metadata": {},
          "output_type": "execute_result"
        }
      ],
      "source": [
        "np.max(a)"
      ]
    },
    {
      "cell_type": "code",
      "execution_count": 15,
      "id": "8fce07c1-4378-4b44-9a46-69ac999d384b",
      "metadata": {
        "trusted": true
      },
      "outputs": [],
      "source": [
        "c=np.array([\n",
        "    [1,2],\n",
        "    [3,4]\n",
        "])"
      ]
    },
    {
      "cell_type": "code",
      "execution_count": 16,
      "id": "e6fd8f85-8cc7-4073-bb35-8a322830de42",
      "metadata": {
        "trusted": true
      },
      "outputs": [
        {
          "data": {
            "text/plain": [
              "array([[1, 2],\n",
              "       [3, 4]])"
            ]
          },
          "execution_count": 16,
          "metadata": {},
          "output_type": "execute_result"
        }
      ],
      "source": [
        "c"
      ]
    },
    {
      "cell_type": "code",
      "execution_count": 17,
      "id": "6a413f1f-4eaa-48c7-829a-3e0e85bee52d",
      "metadata": {
        "trusted": true
      },
      "outputs": [],
      "source": [
        "d=np.array([\n",
        "    [4,8],\n",
        "    [6,9]\n",
        "])"
      ]
    },
    {
      "cell_type": "code",
      "execution_count": 18,
      "id": "0d0ec5e5-598d-40a2-bd1b-960a5004f24c",
      "metadata": {
        "trusted": true
      },
      "outputs": [
        {
          "data": {
            "text/plain": [
              "array([[ 5, 10],\n",
              "       [ 9, 13]])"
            ]
          },
          "execution_count": 18,
          "metadata": {},
          "output_type": "execute_result"
        }
      ],
      "source": [
        "c+d"
      ]
    },
    {
      "cell_type": "code",
      "execution_count": 19,
      "id": "59715b60-25ec-4bcc-8e20-ec37ad9346d0",
      "metadata": {
        "trusted": true
      },
      "outputs": [
        {
          "data": {
            "text/plain": [
              "array([[ 4, 16],\n",
              "       [18, 36]])"
            ]
          },
          "execution_count": 19,
          "metadata": {},
          "output_type": "execute_result"
        }
      ],
      "source": [
        "c*d"
      ]
    },
    {
      "cell_type": "code",
      "execution_count": 20,
      "id": "c3d321ca-a4fb-4616-81f7-727c330f419a",
      "metadata": {
        "trusted": true
      },
      "outputs": [
        {
          "data": {
            "text/plain": [
              "array([ 4, 10, 18])"
            ]
          },
          "execution_count": 20,
          "metadata": {},
          "output_type": "execute_result"
        }
      ],
      "source": [
        "a*b"
      ]
    },
    {
      "cell_type": "code",
      "execution_count": 21,
      "id": "db227a2c-03df-4829-b7b2-74c697aa2386",
      "metadata": {
        "trusted": true
      },
      "outputs": [
        {
          "data": {
            "text/plain": [
              "array([[16, 26],\n",
              "       [36, 60]])"
            ]
          },
          "execution_count": 21,
          "metadata": {},
          "output_type": "execute_result"
        }
      ],
      "source": [
        "f=np.dot(c,d)\n",
        "f"
      ]
    },
    {
      "cell_type": "code",
      "execution_count": 23,
      "id": "31d0c5eb-7e59-40b0-bcec-dfaa1dd217bd",
      "metadata": {
        "trusted": true
      },
      "outputs": [
        {
          "data": {
            "text/plain": [
              "array([[16, 36],\n",
              "       [26, 60]])"
            ]
          },
          "execution_count": 23,
          "metadata": {},
          "output_type": "execute_result"
        }
      ],
      "source": [
        "f.T"
      ]
    },
    {
      "cell_type": "code",
      "execution_count": 24,
      "id": "b05474a1-b835-4add-9da5-96c6178fd064",
      "metadata": {
        "trusted": true
      },
      "outputs": [
        {
          "name": "stdout",
          "output_type": "stream",
          "text": [
            "\n",
            " Matrix 1:\n",
            " [[1 2]\n",
            " [3 4]]\n",
            "\n",
            " Matrix 2:\n",
            " [[4 8]\n",
            " [6 9]]\n",
            "\n",
            " Addition :\n",
            " [[ 5 10]\n",
            " [ 9 13]]\n",
            "\n",
            " Multiplication :\n",
            " [[ 4 16]\n",
            " [18 36]]\n",
            "\n",
            " DOT multiplication rowX column :\n",
            " [[16 26]\n",
            " [36 60]]\n",
            "\n",
            " Transpose :\n",
            " [[16 36]\n",
            " [26 60]]\n"
          ]
        }
      ],
      "source": [
        " print(\"\\n Matrix 1:\\n\",c)\n",
        " print(\"\\n Matrix 2:\\n\",d)\n",
        " print(\"\\n Addition :\\n\",c+d)\n",
        " print(\"\\n Multiplication :\\n\",c*d)\n",
        " print(\"\\n DOT multiplication rowX column :\\n\",f)\n",
        " print(\"\\n Transpose :\\n\",f.T)"
      ]
    }
  ],
  "metadata": {
    "kernelspec": {
      "display_name": "Python 3.13 (XPython)",
      "language": "python",
      "name": "xpython"
    },
    "language_info": {
      "file_extension": ".py",
      "mimetype": "text/x-python",
      "name": "python",
      "version": "3.13.1"
    }
  },
  "nbformat": 4,
  "nbformat_minor": 5
}
